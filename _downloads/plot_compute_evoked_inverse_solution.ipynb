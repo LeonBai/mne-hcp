{
  "nbformat_minor": 0, 
  "nbformat": 4, 
  "cells": [
    {
      "execution_count": null, 
      "cell_type": "code", 
      "source": [
        "%matplotlib inline"
      ], 
      "outputs": [], 
      "metadata": {
        "collapsed": false
      }
    }, 
    {
      "source": [
        "\n\n# Compute inverse solution for evoked data\n\n\nHere we'll use our knowledge from the other examples and tutorials\nto compute an inverse solution and apply it on event related fields.\n\n"
      ], 
      "cell_type": "markdown", 
      "metadata": {}
    }, 
    {
      "execution_count": null, 
      "cell_type": "code", 
      "source": [
        "# Author: Denis A. Enegemann\n# License: BSD 3 clause\n\nimport os.path as op\nimport mne\nimport hcp\nfrom hcp import preprocessing as preproc"
      ], 
      "outputs": [], 
      "metadata": {
        "collapsed": false
      }
    }, 
    {
      "source": [
        "we assume our data is inside a designated folder under $HOME\n\n"
      ], 
      "cell_type": "markdown", 
      "metadata": {}
    }, 
    {
      "execution_count": null, 
      "cell_type": "code", 
      "source": [
        "storage_dir = op.expanduser('~/mne-hcp-data')\nhcp_path = op.join(storage_dir, 'HCP')\nrecordings_path = op.join(storage_dir, 'hcp-meg')\nsubjects_dir = op.join(storage_dir, 'hcp-subjects')\nsubject = '105923'  # our test subject\ndata_type = 'task_working_memory'\nrun_index = 0"
      ], 
      "outputs": [], 
      "metadata": {
        "collapsed": false
      }
    }, 
    {
      "source": [
        "We're reading the evoked data.\nThese are the same as in `tut_plot_evoked`\n\n"
      ], 
      "cell_type": "markdown", 
      "metadata": {}
    }, 
    {
      "execution_count": null, 
      "cell_type": "code", 
      "source": [
        "hcp_evokeds = hcp.read_evokeds(onset='stim', subject=subject,\n                                   data_type=data_type, hcp_path=hcp_path)\nfor evoked in hcp_evokeds:\n    if not evoked.comment == 'Wrkmem_LM-TIM-face_BT-diff_MODE-mag':\n        continue"
      ], 
      "outputs": [], 
      "metadata": {
        "collapsed": false
      }
    }, 
    {
      "source": [
        "We'll now use a convenience function to get our forward and source models\ninstead of computing them by hand.\n\n"
      ], 
      "cell_type": "markdown", 
      "metadata": {}
    }, 
    {
      "execution_count": null, 
      "cell_type": "code", 
      "source": [
        "src_outputs = hcp.anatomy.compute_forward_stack(\n    subject=subject, subjects_dir=subjects_dir,\n    hcp_path=hcp_path, recordings_path=recordings_path,\n    # speed up computations here. Setting `add_dist` to True may improve the\n    # accuracy.\n    src_params=dict(add_dist=False),\n    info_from=dict(data_type=data_type, run_index=run_index))\n\nfwd = src_outputs['fwd']"
      ], 
      "outputs": [], 
      "metadata": {
        "collapsed": false
      }
    }, 
    {
      "source": [
        "Now we can compute the noise covariance. For this purpose we will apply\nthe same filtering as was used for the computations of the ERF in the first\nplace. See also `tut_reproduce_erf`.\n\n"
      ], 
      "cell_type": "markdown", 
      "metadata": {}
    }, 
    {
      "execution_count": null, 
      "cell_type": "code", 
      "source": [
        "raw_noise = hcp.read_raw(subject=subject, hcp_path=hcp_path,\n                         data_type='noise_empty_room')\nraw_noise.load_data()\n\n# apply ref channel correction and drop ref channels\npreproc.apply_ref_correction(raw_noise)\n\n# Note: MNE complains on Python 2.7\nraw_noise.filter(0.50, None, method='iir',\n                 iir_params=dict(order=4, ftype='butter'), n_jobs=1)\nraw_noise.filter(None, 60, method='iir',\n                 iir_params=dict(order=4, ftype='butter'), n_jobs=1)"
      ], 
      "outputs": [], 
      "metadata": {
        "collapsed": false
      }
    }, 
    {
      "source": [
        "Note that using the empty room noise covariance will inflate the SNR of the\nevkoked and renders comparisons  to `baseline` rather uninformative.\n\n"
      ], 
      "cell_type": "markdown", 
      "metadata": {}
    }, 
    {
      "execution_count": null, 
      "cell_type": "code", 
      "source": [
        "noise_cov = mne.compute_raw_covariance(raw_noise, method='empirical')"
      ], 
      "outputs": [], 
      "metadata": {
        "collapsed": false
      }
    }, 
    {
      "source": [
        "Now we assemble the inverse operator, project the data and show the results\non the `fsaverage` surface, the freesurfer average brain.\n\n"
      ], 
      "cell_type": "markdown", 
      "metadata": {}
    }, 
    {
      "execution_count": null, 
      "cell_type": "code", 
      "source": [
        "inv_op = mne.minimum_norm.make_inverse_operator(\n    evoked.info, fwd, noise_cov=noise_cov)\n\nstc = mne.minimum_norm.apply_inverse(  # these data have a pretty high SNR and\n    evoked, inv_op, method='MNE', lambda2=1./9.**2)  # 9 is a lovely number.\n\nstc = stc.to_original_src(\n    src_outputs['src_fsaverage'], subjects_dir=subjects_dir)\n\nbrain = stc.plot(subject='fsaverage', subjects_dir=subjects_dir, hemi='both')\nbrain.set_time(145)  # we take the peak seen in :ref:`tut_plot_evoked` and\nbrain.show_view('caudal')  # admire wide spread visual activation."
      ], 
      "outputs": [], 
      "metadata": {
        "collapsed": false
      }
    }
  ], 
  "metadata": {
    "kernelspec": {
      "display_name": "Python 2", 
      "name": "python2", 
      "language": "python"
    }, 
    "language_info": {
      "mimetype": "text/x-python", 
      "nbconvert_exporter": "python", 
      "name": "python", 
      "file_extension": ".py", 
      "version": "2.7.12", 
      "pygments_lexer": "ipython2", 
      "codemirror_mode": {
        "version": 2, 
        "name": "ipython"
      }
    }
  }
}