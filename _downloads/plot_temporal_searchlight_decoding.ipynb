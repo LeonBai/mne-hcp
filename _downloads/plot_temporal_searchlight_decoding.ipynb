{
  "nbformat_minor": 0, 
  "nbformat": 4, 
  "cells": [
    {
      "execution_count": null, 
      "cell_type": "code", 
      "source": [
        "%matplotlib inline"
      ], 
      "outputs": [], 
      "metadata": {
        "collapsed": false
      }
    }, 
    {
      "source": [
        "\n\n# Run temporal searchlight decoding on event related data\n\n\nIn this tutorial we show how to run a temporal window decoding\non event related data. We'll try to decode tools VS faces in the\nworking memory data.\n\n"
      ], 
      "cell_type": "markdown", 
      "metadata": {}
    }, 
    {
      "execution_count": null, 
      "cell_type": "code", 
      "source": [
        "# Author: Denis A. Enegemann\n# License: BSD 3 clause\n\nimport os.path as op\n\nimport numpy as np\nimport mne\nimport hcp\nfrom hcp import preprocessing as preproc\nfrom sklearn.preprocessing import LabelBinarizer\nfrom sklearn.metrics import roc_auc_score\nfrom sklearn.cross_validation import StratifiedKFold\nfrom mne.decoding import GeneralizationAcrossTime\n\nmne.set_log_level('WARNING')\n\n# we assume our data is inside its designated folder under $HOME\nstorage_dir = op.expanduser('~')\nhcp_params = dict(\n    hcp_path=op.join(storage_dir, 'mne-hcp-data', 'HCP'),\n    subject='105923',\n    data_type='task_working_memory')\n\n# these values are looked up from the HCP manual\ntmin, tmax = -1.5, 2.5\ndecim = 3"
      ], 
      "outputs": [], 
      "metadata": {
        "collapsed": false
      }
    }, 
    {
      "source": [
        "We know from studying either the manual or the trial info about the mapping\nof events.\n\n"
      ], 
      "cell_type": "markdown", 
      "metadata": {}
    }, 
    {
      "execution_count": null, 
      "cell_type": "code", 
      "source": [
        "event_id = dict(face=1, tool=2)"
      ], 
      "outputs": [], 
      "metadata": {
        "collapsed": false
      }
    }, 
    {
      "source": [
        "we first collect epochs across runs and essentially adopt the code\nshown in `tut_reproduce_erf`.\n\n"
      ], 
      "cell_type": "markdown", 
      "metadata": {}
    }, 
    {
      "execution_count": null, 
      "cell_type": "code", 
      "source": [
        "epochs = list()\nfor run_index in [0, 1]:\n    hcp_params['run_index'] = run_index\n    trial_info = hcp.read_trial_info(**hcp_params)\n\n    events = np.c_[\n        trial_info['stim']['codes'][:, 6] - 1,  # time sample\n        np.zeros(len(trial_info['stim']['codes'])),\n        trial_info['stim']['codes'][:, 3]  # event codes\n    ].astype(int)\n\n    # for some reason in the HCP data the time events may not always be unique\n    unique_subset = np.nonzero(np.r_[1, np.diff(events[:, 0])])[0]\n    events = events[unique_subset]  # use diff to find first unique events\n    subset = np.in1d(events[:, 2], event_id.values())\n    epochs_hcp = hcp.read_epochs(**hcp_params).decimate(decim)\n    epochs_hcp = epochs_hcp[unique_subset][subset]\n    epochs_hcp.events[:, 2] = events[subset, 2]\n    epochs_hcp.event_id = event_id\n    epochs_hcp.crop(-0.1, 0.5)\n    epochs.append(preproc.interpolate_missing(epochs_hcp, **hcp_params))\n\nepochs = mne.concatenate_epochs(epochs)\ndel epochs_hcp"
      ], 
      "outputs": [], 
      "metadata": {
        "collapsed": false
      }
    }, 
    {
      "source": [
        "Now we can proceed as shown in the MNE-Python decoding tutorials\n\n"
      ], 
      "cell_type": "markdown", 
      "metadata": {}
    }, 
    {
      "execution_count": null, 
      "cell_type": "code", 
      "source": [
        "y = LabelBinarizer().fit_transform(epochs.events[:, 2]).ravel()\n\ncv = StratifiedKFold(y=y)  # do a stratified cross-validation\n\ngat = GeneralizationAcrossTime(predict_mode='cross-validation', n_jobs=1,\n                               cv=cv, scorer=roc_auc_score)\n# fit and score\ngat.fit(epochs, y=y)\ngat.score(epochs)"
      ], 
      "outputs": [], 
      "metadata": {
        "collapsed": false
      }
    }, 
    {
      "source": [
        "Ploting the temporal connectome and the evolution of discriminability.\n\n"
      ], 
      "cell_type": "markdown", 
      "metadata": {}
    }, 
    {
      "execution_count": null, 
      "cell_type": "code", 
      "source": [
        "gat.plot()\ngat.plot_diagonal()"
      ], 
      "outputs": [], 
      "metadata": {
        "collapsed": false
      }
    }
  ], 
  "metadata": {
    "kernelspec": {
      "display_name": "Python 2", 
      "name": "python2", 
      "language": "python"
    }, 
    "language_info": {
      "mimetype": "text/x-python", 
      "nbconvert_exporter": "python", 
      "name": "python", 
      "file_extension": ".py", 
      "version": "2.7.12", 
      "pygments_lexer": "ipython2", 
      "codemirror_mode": {
        "version": 2, 
        "name": "ipython"
      }
    }
  }
}