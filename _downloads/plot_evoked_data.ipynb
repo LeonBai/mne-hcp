{
  "nbformat_minor": 0, 
  "nbformat": 4, 
  "cells": [
    {
      "execution_count": null, 
      "cell_type": "code", 
      "source": [
        "%matplotlib inline"
      ], 
      "outputs": [], 
      "metadata": {
        "collapsed": false
      }
    }, 
    {
      "source": [
        "\n\n# Visualize evoked data\n\n\nHere we'll generate some attention for pecularities of visualizing the\nHCP evoked outputs using MNE plotting functions.\n\n"
      ], 
      "cell_type": "markdown", 
      "metadata": {}
    }, 
    {
      "execution_count": null, 
      "cell_type": "code", 
      "source": [
        "# Author: Denis A. Enegemann\n# License: BSD 3 clause\n\nimport os.path as op\nimport hcp\nfrom hcp import preprocessing as preproc"
      ], 
      "outputs": [], 
      "metadata": {
        "collapsed": false
      }
    }, 
    {
      "source": [
        "we assume our data is inside a designated folder under $HOME\n\n"
      ], 
      "cell_type": "markdown", 
      "metadata": {}
    }, 
    {
      "execution_count": null, 
      "cell_type": "code", 
      "source": [
        "storage_dir = op.expanduser('~/mne-hcp-data')\nhcp_path = op.join(storage_dir, 'HCP')\nrecordings_path = op.join(storage_dir, 'hcp-meg')\nsubjects_dir = op.join(storage_dir, 'hcp-subjects')\nsubject = '105923'  # our test subject\ndata_type = 'task_working_memory'\nrun_index = 0"
      ], 
      "outputs": [], 
      "metadata": {
        "collapsed": false
      }
    }, 
    {
      "source": [
        "Let's get the eovked data.\n\n"
      ], 
      "cell_type": "markdown", 
      "metadata": {}
    }, 
    {
      "execution_count": null, 
      "cell_type": "code", 
      "source": [
        "hcp_evokeds = hcp.read_evokeds(onset='stim', subject=subject,\n                               data_type=data_type, hcp_path=hcp_path)\nfor evoked in hcp_evokeds:\n    if not evoked.comment == 'Wrkmem_LM-TIM-face_BT-diff_MODE-mag':\n        continue"
      ], 
      "outputs": [], 
      "metadata": {
        "collapsed": false
      }
    }, 
    {
      "source": [
        "In order to plot topographic patterns we need to transform the sensor\npositions to MNE coordinates one a copy of the data.\nWe're not using this these transformed data for any source analyses.\nThese take place in native BTI/4D coordinates.\n\n"
      ], 
      "cell_type": "markdown", 
      "metadata": {}
    }, 
    {
      "execution_count": null, 
      "cell_type": "code", 
      "source": [
        "evoked_viz = evoked.copy()\npreproc.map_ch_coords_to_mne(evoked_viz)\nevoked_viz.plot_joint()"
      ], 
      "outputs": [], 
      "metadata": {
        "collapsed": false
      }
    }, 
    {
      "source": [
        "for subsequent analyses we would use `evoked` not `evoked_viz`.\nSee also `tut_compute_inverse_erf` to see how the story continues.\n\n"
      ], 
      "cell_type": "markdown", 
      "metadata": {}
    }
  ], 
  "metadata": {
    "kernelspec": {
      "display_name": "Python 2", 
      "name": "python2", 
      "language": "python"
    }, 
    "language_info": {
      "mimetype": "text/x-python", 
      "nbconvert_exporter": "python", 
      "name": "python", 
      "file_extension": ".py", 
      "version": "2.7.12", 
      "pygments_lexer": "ipython2", 
      "codemirror_mode": {
        "version": 2, 
        "name": "ipython"
      }
    }
  }
}