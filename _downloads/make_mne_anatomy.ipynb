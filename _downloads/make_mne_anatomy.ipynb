{
  "nbformat_minor": 0, 
  "nbformat": 4, 
  "cells": [
    {
      "execution_count": null, 
      "cell_type": "code", 
      "source": [
        "%matplotlib inline"
      ], 
      "outputs": [], 
      "metadata": {
        "collapsed": false
      }
    }, 
    {
      "source": [
        "\n\n# Extract essential anatomy information\n\n\nThe HCP anatomy data needed for MNE based source analysis\nLive in different places and subfolders.\nMNE-HCP has a convenience function that exctracts the required\nfiles and information and creates a \"subjects_dir\" as known from\nMNE and freesurfer.\n\nThe most essential contents are\n- freesurfer surfaces\n- the MRI\n- the headmodel\n- the coregistration transform\n\nThis function is your friend prior to running any source analysis.\n\n"
      ], 
      "cell_type": "markdown", 
      "metadata": {}
    }, 
    {
      "execution_count": null, 
      "cell_type": "code", 
      "source": [
        "# Author: Denis A. Engemann\n# License: BSD 3 clause\n\nimport os.path as op\nimport hcp\nstorage_dir = op.expanduser('~/mne-hcp-data')\n\n# This is where the data are after downloading from HCP\nhcp_path = storage_dir + '/HCP'\n\n# this is the new directory to be created\nsubjects_dir = storage_dir + '/hcp-subjects'\n\n# it will make the subfolders 'bem', 'mir', 'surf' and 'label'\n# and populate it with symbolic links if possible and write some files\n# where information has to be presented in a different format to satisfy MNE.\n\n# this is where the coregistration matrix is written as\n# `105923-head_mri-transform.fif`\nrecordings_path = storage_dir + '/hcp-meg'\n\n# comment out to write files on your disk\n# hcp.make_mne_anatomy(\n#     subject='105923', hcp_path=hcp_path,\n#     recordings_path=recordings_path,\n#     subjects_dir=subjects_dir)"
      ], 
      "outputs": [], 
      "metadata": {
        "collapsed": false
      }
    }
  ], 
  "metadata": {
    "kernelspec": {
      "display_name": "Python 2", 
      "name": "python2", 
      "language": "python"
    }, 
    "language_info": {
      "mimetype": "text/x-python", 
      "nbconvert_exporter": "python", 
      "name": "python", 
      "file_extension": ".py", 
      "version": "2.7.12", 
      "pygments_lexer": "ipython2", 
      "codemirror_mode": {
        "version": 2, 
        "name": "ipython"
      }
    }
  }
}