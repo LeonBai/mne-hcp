{
  "nbformat_minor": 0, 
  "nbformat": 4, 
  "cells": [
    {
      "execution_count": null, 
      "cell_type": "code", 
      "source": [
        "%matplotlib inline"
      ], 
      "outputs": [], 
      "metadata": {
        "collapsed": false
      }
    }, 
    {
      "source": [
        "\n\n# Compute forward model\n\n\nHere we'll first compute a source space, then the bem model\nand finally the forward solution.\n\n"
      ], 
      "cell_type": "markdown", 
      "metadata": {}
    }, 
    {
      "execution_count": null, 
      "cell_type": "code", 
      "source": [
        "# Author: Denis A. Enegemann\n# License: BSD 3 clause\n\nimport os.path as op\nimport mne\nimport hcp"
      ], 
      "outputs": [], 
      "metadata": {
        "collapsed": false
      }
    }, 
    {
      "source": [
        "we assume our data is inside a designated folder under $HOME\n\n"
      ], 
      "cell_type": "markdown", 
      "metadata": {}
    }, 
    {
      "execution_count": null, 
      "cell_type": "code", 
      "source": [
        "storage_dir = op.expanduser('~/mne-hcp-data')\nhcp_path = op.join(storage_dir, 'HCP')\nrecordings_path = op.join(storage_dir, 'hcp-meg')\nsubjects_dir = op.join(storage_dir, 'hcp-subjects')\nsubject = '105923'  # our test subject"
      ], 
      "outputs": [], 
      "metadata": {
        "collapsed": false
      }
    }, 
    {
      "source": [
        "and we assume to have the downloaded data, the MNE/freesurfer style\nanatomy directory, and the MNE style MEG directory.\nthese can be obtained from :func:`make_mne_anatomy`.\nSee also `tut_make_anatomy`.\n\n"
      ], 
      "cell_type": "markdown", 
      "metadata": {}
    }, 
    {
      "source": [
        "first we read the coregistration.\n\n"
      ], 
      "cell_type": "markdown", 
      "metadata": {}
    }, 
    {
      "execution_count": null, 
      "cell_type": "code", 
      "source": [
        "head_mri_t = mne.read_trans(\n    op.join(recordings_path, subject, '{}-head_mri-trans.fif'.format(\n            subject)))"
      ], 
      "outputs": [], 
      "metadata": {
        "collapsed": false
      }
    }, 
    {
      "source": [
        "Now we can setup our source model.\nNote that spacing has to be set to 'all' since no common MNE resampling\nscheme has been employed in the HCP pipelines.\nSince this will take very long time to compute and at this point no other\ndecimation scheme is available inside MNE, we will compute the source\nspace on fsaverage, the freesurfer average brain, and morph it onto\nthe subject's native space. With `oct6` we have ~8000 dipole locations.\n\n"
      ], 
      "cell_type": "markdown", 
      "metadata": {}
    }, 
    {
      "execution_count": null, 
      "cell_type": "code", 
      "source": [
        "src_fsaverage = mne.setup_source_space(\n    subject='fsaverage', subjects_dir=subjects_dir, add_dist=False,\n    spacing='oct6', overwrite=True)\n\n# now we morph it onto the subject.\n\nsrc_subject = mne.morph_source_spaces(\n    src_fsaverage, subject, subjects_dir=subjects_dir)"
      ], 
      "outputs": [], 
      "metadata": {
        "collapsed": false
      }
    }, 
    {
      "source": [
        "For the same reason `ico` has to be set to `None` when computing the bem.\nThe headshape is not computed with MNE and has a none standard configuration.\n\n"
      ], 
      "cell_type": "markdown", 
      "metadata": {}
    }, 
    {
      "execution_count": null, 
      "cell_type": "code", 
      "source": [
        "bems = mne.make_bem_model(subject, conductivity=(0.3,),\n                          subjects_dir=subjects_dir,\n                          ico=None)  # ico = None for morphed SP.\nbem_sol = mne.make_bem_solution(bems)\nbem_sol['surfs'][0]['coord_frame'] = 5"
      ], 
      "outputs": [], 
      "metadata": {
        "collapsed": false
      }
    }, 
    {
      "source": [
        "Now we can read the channels that we want to map to the cortical locations.\nThen we can compute the forward solution.\n\n"
      ], 
      "cell_type": "markdown", 
      "metadata": {}
    }, 
    {
      "execution_count": null, 
      "cell_type": "code", 
      "source": [
        "info = hcp.read_info(subject=subject, hcp_path=hcp_path, data_type='rest',\n                     run_index=0)\n\npicks = mne.pick_types(info, meg=True, ref_meg=False)\ninfo = mne.pick_info(info, picks)\n\nfwd = mne.make_forward_solution(info, trans=head_mri_t, bem=bem_sol,\n                                src=src_subject)\nmag_map = mne.sensitivity_map(\n    fwd, projs=None, ch_type='mag', mode='fixed', exclude=[], verbose=None)"
      ], 
      "outputs": [], 
      "metadata": {
        "collapsed": false
      }
    }, 
    {
      "source": [
        "we display sensitivity map on the original surface with little smoothing\nand admire the expected curvature-driven sensitivity pattern.\n\n"
      ], 
      "cell_type": "markdown", 
      "metadata": {}
    }, 
    {
      "execution_count": null, 
      "cell_type": "code", 
      "source": [
        "mag_map = mag_map.to_original_src(src_fsaverage, subjects_dir=subjects_dir)\nmag_map.plot(subject='fsaverage', subjects_dir=subjects_dir,\n             clim=dict(kind='percent', lims=[0, 50, 99]),\n             smoothing_steps=2)"
      ], 
      "outputs": [], 
      "metadata": {
        "collapsed": false
      }
    }
  ], 
  "metadata": {
    "kernelspec": {
      "display_name": "Python 2", 
      "name": "python2", 
      "language": "python"
    }, 
    "language_info": {
      "mimetype": "text/x-python", 
      "nbconvert_exporter": "python", 
      "name": "python", 
      "file_extension": ".py", 
      "version": "2.7.12", 
      "pygments_lexer": "ipython2", 
      "codemirror_mode": {
        "version": 2, 
        "name": "ipython"
      }
    }
  }
}