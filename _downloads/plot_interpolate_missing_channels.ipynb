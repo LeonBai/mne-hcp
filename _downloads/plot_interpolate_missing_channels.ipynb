{
  "nbformat_minor": 0, 
  "nbformat": 4, 
  "cells": [
    {
      "execution_count": null, 
      "cell_type": "code", 
      "source": [
        "%matplotlib inline"
      ], 
      "outputs": [], 
      "metadata": {
        "collapsed": false
      }
    }, 
    {
      "source": [
        "\n# Interpolate channel that are missing in an HCP output file\n\n\nWe'll take a look at the coregistration here.\n\n"
      ], 
      "cell_type": "markdown", 
      "metadata": {}
    }, 
    {
      "execution_count": null, 
      "cell_type": "code", 
      "source": [
        "# Author: Denis A. Enegemann\n# License: BSD 3 clause\n\nimport os.path as op\n\nimport mne\n\nimport hcp\nfrom hcp import preprocessing as preproc\n\nmne.set_log_level('WARNING')"
      ], 
      "outputs": [], 
      "metadata": {
        "collapsed": false
      }
    }, 
    {
      "source": [
        "we assume our data is inside a designated folder under $HOME\nand set the IO params\n\n"
      ], 
      "cell_type": "markdown", 
      "metadata": {}
    }, 
    {
      "execution_count": null, 
      "cell_type": "code", 
      "source": [
        "storage_dir = op.expanduser('~')\n\nhcp_params = dict(hcp_path=op.join(storage_dir, 'mne-hcp-data', 'HCP'),\n                  subject='105923',\n                  data_type='task_working_memory')"
      ], 
      "outputs": [], 
      "metadata": {
        "collapsed": false
      }
    }, 
    {
      "source": [
        "we take the some evoked and create an interpolated copy\n\n"
      ], 
      "cell_type": "markdown", 
      "metadata": {}
    }, 
    {
      "execution_count": null, 
      "cell_type": "code", 
      "source": [
        "evoked = hcp.read_evokeds(**hcp_params)[0]\n\n# The HCP pipelines don't interpolate missing channels\nprint('%i channels out of 248 expected' % len(evoked.ch_names))\n\nevoked_interpolated = preproc.interpolate_missing(evoked, **hcp_params)"
      ], 
      "outputs": [], 
      "metadata": {
        "collapsed": false
      }
    }, 
    {
      "source": [
        "Let's visualize what has changed!\n\n"
      ], 
      "cell_type": "markdown", 
      "metadata": {}
    }, 
    {
      "execution_count": null, 
      "cell_type": "code", 
      "source": [
        "# we calculate the difference ...\nbads = set(evoked_interpolated.ch_names) - set(evoked.ch_names)\nprint(bads)\n\n# ... and mark the respective channels as bad ...\nevoked_interpolated.info['bads'] += list(bads)\n\n# ... such that MNE is displaying the interpolated time series in red ...\nevoked_interpolated.plot(exclude=[])"
      ], 
      "outputs": [], 
      "metadata": {
        "collapsed": false
      }
    }
  ], 
  "metadata": {
    "kernelspec": {
      "display_name": "Python 2", 
      "name": "python2", 
      "language": "python"
    }, 
    "language_info": {
      "mimetype": "text/x-python", 
      "nbconvert_exporter": "python", 
      "name": "python", 
      "file_extension": ".py", 
      "version": "2.7.12", 
      "pygments_lexer": "ipython2", 
      "codemirror_mode": {
        "version": 2, 
        "name": "ipython"
      }
    }
  }
}