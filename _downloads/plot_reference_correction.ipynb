{
  "nbformat_minor": 0, 
  "nbformat": 4, 
  "cells": [
    {
      "execution_count": null, 
      "cell_type": "code", 
      "source": [
        "%matplotlib inline"
      ], 
      "outputs": [], 
      "metadata": {
        "collapsed": false
      }
    }, 
    {
      "source": [
        "\n# Apply reference channel correction\n\n\nApply reference channels and see what happens.\n\n"
      ], 
      "cell_type": "markdown", 
      "metadata": {}
    }, 
    {
      "execution_count": null, 
      "cell_type": "code", 
      "source": [
        "# Author: Denis A. Enegemann\n# License: BSD 3 clause\n\n# import os\nimport os.path as op\n\nimport numpy as np\nimport matplotlib.pyplot as plt\nfrom scipy.signal import welch\n\nimport mne\nimport hcp\nfrom hcp.preprocessing import apply_ref_correction"
      ], 
      "outputs": [], 
      "metadata": {
        "collapsed": false
      }
    }, 
    {
      "source": [
        "We first set parameters\n\n"
      ], 
      "cell_type": "markdown", 
      "metadata": {}
    }, 
    {
      "execution_count": null, 
      "cell_type": "code", 
      "source": [
        "storage_dir = op.join(op.expanduser('~'), 'mne-hcp-data')\nhcp_path = op.join(storage_dir, 'HCP')\nsubject = '105923'\ndata_type = 'rest'\nrun_index = 0"
      ], 
      "outputs": [], 
      "metadata": {
        "collapsed": false
      }
    }, 
    {
      "source": [
        "Then we define a spectral plotter for convenience\n\n"
      ], 
      "cell_type": "markdown", 
      "metadata": {}
    }, 
    {
      "execution_count": null, 
      "cell_type": "code", 
      "source": [
        "def plot_psd(X, label, Fs, NFFT, color=None):\n\n    freqs, psd = welch(X, fs=Fs, window='hanning', nperseg=NFFT,\n                       noverlap=int(NFFT * 0.8))\n    freqs = freqs[freqs > 0]\n    psd = psd[freqs > 0]\n    plt.plot(np.log10(freqs), 10 * np.log10(psd.ravel()), label=label,\n             color=color)"
      ], 
      "outputs": [], 
      "metadata": {
        "collapsed": false
      }
    }, 
    {
      "source": [
        "Now we read in the data\n\nThen we plot the power spectrum of the MEG and reference channels,\napply the reference correction and add the resulting cleaned MEG channels\nto our comparison.\n\n"
      ], 
      "cell_type": "markdown", 
      "metadata": {}
    }, 
    {
      "execution_count": null, 
      "cell_type": "code", 
      "source": [
        "raw = hcp.read_raw(subject=subject, hcp_path=hcp_path,\n                   run_index=run_index, data_type=data_type)\nraw.load_data()\n\n# get meg and ref channels\nmeg_picks = mne.pick_types(raw.info, meg=True, ref_meg=False)\nref_picks = mne.pick_types(raw.info, ref_meg=True, meg=False)\n\n\n# put single channel aside for comparison later\nchan1 = raw[meg_picks[0]][0]\n\n# add some plotting parameter\ndecim_fit = 100  # we lean a purely spatial model, we don't need all samples\ndecim_show = 10  # we can make plotting faster\nn_fft = 2 ** 15  # let's use long windows to see low frequencies\n\n# we put aside the time series for later plotting\nx_meg = raw[meg_picks][0][:, ::decim_show].mean(0)\nx_meg_ref = raw[ref_picks][0][:, ::decim_show].mean(0)"
      ], 
      "outputs": [], 
      "metadata": {
        "collapsed": false
      }
    }, 
    {
      "source": [
        "Now we apply the ref correction (in place).\n\n"
      ], 
      "cell_type": "markdown", 
      "metadata": {}
    }, 
    {
      "execution_count": null, 
      "cell_type": "code", 
      "source": [
        "apply_ref_correction(raw)"
      ], 
      "outputs": [], 
      "metadata": {
        "collapsed": false
      }
    }, 
    {
      "source": [
        "That was the easiest part! Let's now plot everything.\n\n"
      ], 
      "cell_type": "markdown", 
      "metadata": {}
    }, 
    {
      "execution_count": null, 
      "cell_type": "code", 
      "source": [
        "plt.figure(figsize=(9, 6))\nplot_psd(x_meg, Fs=raw.info['sfreq'], NFFT=n_fft, label='MEG', color='black')\nplot_psd(x_meg_ref, Fs=raw.info['sfreq'], NFFT=n_fft, label='MEG-REF',\n         color='red')\nplot_psd(raw[meg_picks][0][:, ::decim_show].mean(0), Fs=raw.info['sfreq'],\n         NFFT=n_fft, label='MEG-corrected', color='orange')\n\nplt.legend()\nplt.xticks(np.log10([0.1, 1, 10, 100]), [0.1, 1, 10, 100])\nplt.xlim(np.log10([0.1, 300]))\nplt.xlabel('log10(frequency) [Hz]')\nplt.ylabel('Power Spectral Density [dB]')\nplt.grid()\nplt.show()"
      ], 
      "outputs": [], 
      "metadata": {
        "collapsed": false
      }
    }, 
    {
      "source": [
        "We can see that the ref correction removes low frequencies which is expected\n\n"
      ], 
      "cell_type": "markdown", 
      "metadata": {}
    }, 
    {
      "source": [
        "By comparing single channel time series we can also see the detrending effect\n\n"
      ], 
      "cell_type": "markdown", 
      "metadata": {}
    }, 
    {
      "execution_count": null, 
      "cell_type": "code", 
      "source": [
        "chan1c = raw[meg_picks[0]][0]\nch_name = raw.ch_names[meg_picks[0]]\n\nplt.figure()\nplt.plot(raw.times, chan1.ravel() * 1e15, label='%s before' % ch_name,\n         color='black')\nplt.plot(raw.times, chan1c.ravel() * 1e15, label='%s after' % ch_name,\n         color='orange')\nplt.xlim(raw.times[[0, -1]])\nplt.legend(loc='upper left')\nplt.ylabel('Magnetometer [fT]')\nplt.xlabel('Time [seconds]')\nplt.grid()\nplt.show()"
      ], 
      "outputs": [], 
      "metadata": {
        "collapsed": false
      }
    }
  ], 
  "metadata": {
    "kernelspec": {
      "display_name": "Python 2", 
      "name": "python2", 
      "language": "python"
    }, 
    "language_info": {
      "mimetype": "text/x-python", 
      "nbconvert_exporter": "python", 
      "name": "python", 
      "file_extension": ".py", 
      "version": "2.7.12", 
      "pygments_lexer": "ipython2", 
      "codemirror_mode": {
        "version": 2, 
        "name": "ipython"
      }
    }
  }
}